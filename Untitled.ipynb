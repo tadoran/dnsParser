{
 "cells": [
  {
   "cell_type": "code",
   "execution_count": null,
   "metadata": {},
   "outputs": [],
   "source": [
    "import pandas as pd, numpy as np"
   ]
  },
  {
   "cell_type": "code",
   "execution_count": null,
   "metadata": {},
   "outputs": [],
   "source": [
    "#xlsPaths = 'price-abakan.xls'\n",
    "xlsPaths = 'price-moscow.xls'\n"
   ]
  },
  {
   "cell_type": "code",
   "execution_count": null,
   "metadata": {},
   "outputs": [],
   "source": [
    "df = pd.read_excel(xlsPaths,2)"
   ]
  },
  {
   "cell_type": "code",
   "execution_count": null,
   "metadata": {},
   "outputs": [],
   "source": [
    "\n",
    "df = df.dropna(axis=0,thresh=len(df.columns)-1)\n",
    "#.reset_index(drop=True)\n",
    "#df.columns = df.iloc[0]\n",
    "df.head(150)\n",
    "\n",
    "#df = df[df[\"Код\"]!=\"Код\"]\n",
    "#df"
   ]
  },
  {
   "cell_type": "code",
   "execution_count": null,
   "metadata": {},
   "outputs": [],
   "source": [
    "len(df.columns)-1"
   ]
  },
  {
   "cell_type": "code",
   "execution_count": null,
   "metadata": {},
   "outputs": [],
   "source": [
    "df"
   ]
  },
  {
   "cell_type": "code",
   "execution_count": null,
   "metadata": {},
   "outputs": [],
   "source": [
    "df[df[\"Код\"]!=\"Код\"]"
   ]
  },
  {
   "cell_type": "code",
   "execution_count": null,
   "metadata": {},
   "outputs": [],
   "source": [
    "import xlrd, xlwt\n",
    "\n",
    "# В коде xlrd отключаем вывод ошибки - http://www.programmersought.com/article/676234398/\n",
    "#открываем файл\n",
    "rb = xlrd.open_workbook(xlsPaths,formatting_info=True)\n",
    "rb\n",
    "\n",
    "#выбираем активный лист\n",
    "#sheet = rb.sheet_by_index(1)"
   ]
  },
  {
   "cell_type": "code",
   "execution_count": null,
   "metadata": {},
   "outputs": [],
   "source": [
    "vals = [sheet.row_values(rownum) for rownum in range(sheet.nrows)]\n",
    "vals"
   ]
  },
  {
   "cell_type": "code",
   "execution_count": null,
   "metadata": {},
   "outputs": [],
   "source": [
    "import win32com.client\n",
    "import os\n",
    "os.getcwd()"
   ]
  },
  {
   "cell_type": "code",
   "execution_count": null,
   "metadata": {},
   "outputs": [],
   "source": [
    "\n",
    "xlApp = win32com.client.Dispatch('Excel.Application')\n",
    "xlApp.Visible = False\n",
    "\n",
    "xls = xlApp.Workbooks.Open(os.getcwd() + \"\\\\\" + xlsPaths)\n",
    "\n",
    "sheet = xls.Worksheets(2)\n",
    "\n",
    "info = sheet.USedrange\n",
    "nrows = info.Rows.Count\n",
    "ncols = info.Columns.Count"
   ]
  },
  {
   "cell_type": "code",
   "execution_count": null,
   "metadata": {},
   "outputs": [],
   "source": [
    "print(nrows,ncols)"
   ]
  },
  {
   "cell_type": "code",
   "execution_count": null,
   "metadata": {},
   "outputs": [],
   "source": [
    "for row in info.Rows:\n",
    "    #if row.Cells(1,2).Value <> none:\n",
    "        print(list(row.Value))\n",
    "        print(\"\\n\\n\")\n",
    "    "
   ]
  },
  {
   "cell_type": "code",
   "execution_count": null,
   "metadata": {},
   "outputs": [],
   "source": [
    "print(info)"
   ]
  },
  {
   "cell_type": "code",
   "execution_count": null,
   "metadata": {},
   "outputs": [],
   "source": [
    "xls.Close(SaveChanges=0)"
   ]
  },
  {
   "cell_type": "code",
   "execution_count": null,
   "metadata": {},
   "outputs": [],
   "source": [
    "import os\n",
    "path = r\"C:\\Users\\Gorelov\\Desktop\\DNS Parser\\pyZip\"\n",
    "files = [file for file in os.listdir(path) if file.endswith(\".zip\")]\n",
    "print(files)"
   ]
  },
  {
   "cell_type": "code",
   "execution_count": null,
   "metadata": {},
   "outputs": [],
   "source": [
    "import os\n",
    "import zipfile\n",
    "def un_zipFiles(path, path2):\n",
    "    files=os.listdir(path)\n",
    "    for file in files:\n",
    "        if file.endswith('.zip'):\n",
    "            filePath=path+'/'+file\n",
    "            zip_file = zipfile.ZipFile(filePath)\n",
    "            for names in zip_file.namelist():\n",
    "                print(names)\n",
    "                zip_file.extract(names,path2)\n",
    "            zip_file.close()\n",
    "            \n",
    "os.chdir(r\"C:\\Users\\Gorelov\\Desktop\\DNS Parser\")\n",
    "inFolder = r\".\\26.10.2019 zips\"\n",
    "toFolder = r\".\\26.10.2019 xls\"\n",
    "un_zipFiles(inFolder,toFolder)"
   ]
  },
  {
   "cell_type": "code",
   "execution_count": null,
   "metadata": {},
   "outputs": [],
   "source": []
  },
  {
   "cell_type": "code",
   "execution_count": null,
   "metadata": {},
   "outputs": [],
   "source": []
  },
  {
   "cell_type": "markdown",
   "metadata": {},
   "source": [
    "### Web interaction routines"
   ]
  },
  {
   "cell_type": "code",
   "execution_count": null,
   "metadata": {},
   "outputs": [],
   "source": [
    "import requests"
   ]
  },
  {
   "cell_type": "code",
   "execution_count": 1,
   "metadata": {},
   "outputs": [
    {
     "ename": "NameError",
     "evalue": "name 'requests' is not defined",
     "output_type": "error",
     "traceback": [
      "\u001b[1;31m---------------------------------------------------------------------------\u001b[0m",
      "\u001b[1;31mNameError\u001b[0m                                 Traceback (most recent call last)",
      "\u001b[1;32m<ipython-input-1-9b2cfe4372e8>\u001b[0m in \u001b[0;36m<module>\u001b[1;34m\u001b[0m\n\u001b[0;32m      3\u001b[0m     \"Referer\": \"https://www.perekrestok.ru/catalog/moloko-syr-yaytsa/moloko/m-moloko-ster-3-2-950g--306293\"})\n\u001b[0;32m      4\u001b[0m \u001b[0murl\u001b[0m \u001b[1;33m=\u001b[0m \u001b[1;34m\"https://www.dns-shop.ru/ajax/region-nav-window/\"\u001b[0m\u001b[1;33m\u001b[0m\u001b[1;33m\u001b[0m\u001b[0m\n\u001b[1;32m----> 5\u001b[1;33m \u001b[0mr\u001b[0m \u001b[1;33m=\u001b[0m \u001b[0mrequests\u001b[0m\u001b[1;33m.\u001b[0m\u001b[0mget\u001b[0m\u001b[1;33m(\u001b[0m\u001b[0murl\u001b[0m\u001b[1;33m,\u001b[0m \u001b[0mheaders\u001b[0m \u001b[1;33m=\u001b[0m \u001b[0mheaders\u001b[0m\u001b[1;33m)\u001b[0m\u001b[1;33m.\u001b[0m\u001b[0mjson\u001b[0m\u001b[1;33m(\u001b[0m\u001b[1;33m)\u001b[0m\u001b[1;33m[\u001b[0m\u001b[1;34m\"html\"\u001b[0m\u001b[1;33m]\u001b[0m\u001b[1;33m\u001b[0m\u001b[1;33m\u001b[0m\u001b[0m\n\u001b[0m\u001b[0;32m      6\u001b[0m \u001b[0mprint\u001b[0m\u001b[1;33m(\u001b[0m\u001b[0mr\u001b[0m\u001b[1;33m)\u001b[0m\u001b[1;33m\u001b[0m\u001b[1;33m\u001b[0m\u001b[0m\n",
      "\u001b[1;31mNameError\u001b[0m: name 'requests' is not defined"
     ]
    }
   ],
   "source": [
    "headers = ({\n",
    "    \"User-Agent\": \"Mozilla/5.0 (Windows NT 10.0; Win64; x64) AppleWebKit/537.36 (KHTML, like Gecko) Chrome/77.0.3865.120 Safari/537.36\",\n",
    "    \"Referer\": \"https://www.perekrestok.ru/catalog/moloko-syr-yaytsa/moloko/m-moloko-ster-3-2-950g--306293\"})\n",
    "url = \"https://www.dns-shop.ru/ajax/region-nav-window/\"\n",
    "r = requests.get(url, headers = headers).json()[\"html\"]\n",
    "print(r)"
   ]
  },
  {
   "cell_type": "code",
   "execution_count": null,
   "metadata": {},
   "outputs": [],
   "source": []
  },
  {
   "cell_type": "code",
   "execution_count": null,
   "metadata": {},
   "outputs": [],
   "source": [
    "print(r.json()[\"html\"])"
   ]
  },
  {
   "cell_type": "code",
   "execution_count": null,
   "metadata": {},
   "outputs": [],
   "source": [
    "with open(\"html.html\",\"w\") as f:\n",
    "    f.write(r.json()[\"html\"])"
   ]
  },
  {
   "cell_type": "code",
   "execution_count": null,
   "metadata": {},
   "outputs": [],
   "source": [
    "import re\n",
    "pattern = r'<a[\\s\\S]+?data-city-id=\"+([\\s\\S]+?)\\\"+[\\s\\S]+?<span>([\\s\\S]+?)<\\/span>[\\s\\S]+?<\\/a>'\n",
    "results = re.findall(pattern, r.json()[\"html\"])\n",
    "res = {hashStr:cityName for (hashStr,cityName) in results}\n",
    "res2 = {cityName:hashStr for (hashStr,cityName) in results}\n",
    "print(len(res))\n",
    "for hashStr in res.keys():\n",
    "    print(hashStr, res[hashStr])\n",
    "\n",
    "\n"
   ]
  },
  {
   "cell_type": "code",
   "execution_count": null,
   "metadata": {},
   "outputs": [],
   "source": [
    "connection = pymysql.connect(\n",
    "    host='localhost',\n",
    "    user='tadoran',\n",
    "    password='epA7Jgpa',\n",
    "    db='dnsavailability',\n",
    "    charset='utf8',\n",
    "    cursorclass=DictCursor\n",
    ")\n"
   ]
  },
  {
   "cell_type": "code",
   "execution_count": null,
   "metadata": {},
   "outputs": [],
   "source": [
    "query = \"\"\"\n",
    "    UPDATE cities \n",
    "    SET\n",
    "        `city_hash` = %s \n",
    "    WHERE\n",
    "        `city_name` = %s\n",
    "    ;\n",
    "    \"\"\""
   ]
  },
  {
   "cell_type": "code",
   "execution_count": null,
   "metadata": {},
   "outputs": [],
   "source": [
    "with connection.cursor() as cursor:\n",
    "    q = \"SELECT * FROM cities\"\n",
    "    cursor.execute(q)\n",
    "    citiesInDb = {x[\"city_name\"]: x for x in cursor}"
   ]
  },
  {
   "cell_type": "code",
   "execution_count": null,
   "metadata": {},
   "outputs": [],
   "source": [
    "a = {y[0]:y[1] for y in [[city, hashStr, city in citiesInDb] for city, hashStr in res2.items()] if y[2] == False}\n",
    "#print(a)\n",
    "\n",
    "query = \"INSERT IGNORE INTO cities (`city_name`,`city_hash`) VALUES (%s,%s)\"\n",
    "\n",
    "\"\"\"\n",
    "with connection.cursor() as cursor:\n",
    "    for city in a.keys():\n",
    "        #print(city, a[city], len(a[city]))\n",
    "        data = (city,a[city])\n",
    "        cursor.execute(query,data)\n",
    "    connection.commit()\n",
    "\"\"\"\n",
    "\n",
    "for city in res2:\n",
    "    isInDb = city in citiesInDb\n",
    "    if isInDb:\n",
    "        continue\n",
    "        print(city, \"is in DB.\")\n",
    "    else:\n",
    "        print(\"NEW!\",  city, \"is NOT in DB.\")\n",
    "    \n",
    "#for row in citiesInDb.items():\n",
    "    #print(row)\n",
    "    #curCityCur2 = res2.get(row[\"city_name\"],None) \n",
    "    #if  curCityCur2 != None:\n",
    "    #    print(row[\"city_name\"], \"is on db already\")\n",
    "    #else:\n",
    "    #    print(\"Never heard\")"
   ]
  },
  {
   "cell_type": "code",
   "execution_count": null,
   "metadata": {},
   "outputs": [],
   "source": []
  },
  {
   "cell_type": "code",
   "execution_count": null,
   "metadata": {},
   "outputs": [],
   "source": []
  },
  {
   "cell_type": "code",
   "execution_count": null,
   "metadata": {},
   "outputs": [],
   "source": [
    "connection.close()"
   ]
  },
  {
   "cell_type": "code",
   "execution_count": null,
   "metadata": {},
   "outputs": [],
   "source": []
  },
  {
   "cell_type": "code",
   "execution_count": null,
   "metadata": {},
   "outputs": [],
   "source": []
  },
  {
   "cell_type": "code",
   "execution_count": null,
   "metadata": {},
   "outputs": [],
   "source": []
  },
  {
   "cell_type": "code",
   "execution_count": null,
   "metadata": {},
   "outputs": [],
   "source": []
  },
  {
   "cell_type": "code",
   "execution_count": null,
   "metadata": {},
   "outputs": [],
   "source": [
    "categories = [\n",
    "\"Варочные панели газовые\",\"Варочные панели электрические\",\"Встраиваемые посудомоечные машины\",\"Духовые шкафы электрические\",\n",
    "\"Посудомоечные машины\",\"Стиральные машины\",\"Холодильники\",\"Вытяжки\",\"Блендеры погружные\",\"Блендеры стационарные\",\"Грили и раклетницы\",\n",
    "\"Измельчители\",\"Кофеварки капельные\",\"Кофемашины автоматические\",\"Кофемашины капсульные\",\"Кофемолки\",\"Кухонные комбайны\",\n",
    "\"Микроволновые печи\",\"Миксеры\",\"Мультиварки\",\"Мясорубки\",\"Соковыжималки\",\"Чайники\",\"Электрочайники\",\"Гладильные доски\",\n",
    "\"Гладильные системы\",\"Мешки-пылесборники\",\"Парогенераторы\",\"Пылесосы\",\"Утюги\"\n",
    "]"
   ]
  },
  {
   "cell_type": "code",
   "execution_count": null,
   "metadata": {},
   "outputs": [],
   "source": [
    "from config.config import Configuration\n",
    "config = Configuration()"
   ]
  },
  {
   "cell_type": "code",
   "execution_count": null,
   "metadata": {},
   "outputs": [],
   "source": [
    "import pandas as pd"
   ]
  },
  {
   "cell_type": "code",
   "execution_count": null,
   "metadata": {},
   "outputs": [],
   "source": [
    "test_pd = pd.read_excel(test_file, sheet_name = None)"
   ]
  },
  {
   "cell_type": "code",
   "execution_count": null,
   "metadata": {},
   "outputs": [],
   "source": [
    "type(test_pd)"
   ]
  },
  {
   "cell_type": "code",
   "execution_count": null,
   "metadata": {},
   "outputs": [],
   "source": [
    "for name, sheet in test_pd.items():\n",
    "    print(name)\n",
    "    print(sheet.head())"
   ]
  },
  {
   "cell_type": "code",
   "execution_count": null,
   "metadata": {},
   "outputs": [],
   "source": []
  },
  {
   "cell_type": "code",
   "execution_count": null,
   "metadata": {},
   "outputs": [],
   "source": [
    "import xlrd\n"
   ]
  },
  {
   "cell_type": "code",
   "execution_count": null,
   "metadata": {},
   "outputs": [],
   "source": [
    "test_file = config.folders[\"xls_folder\"] + \"\\\\\" + \"price-spb.xls\"\n",
    "test_file = config.folders[\"xls_folder\"] + \"\\\\\" + \"price-pereaslavka.xls\""
   ]
  },
  {
   "cell_type": "code",
   "execution_count": null,
   "metadata": {},
   "outputs": [],
   "source": [
    "test_file"
   ]
  },
  {
   "cell_type": "code",
   "execution_count": null,
   "metadata": {},
   "outputs": [],
   "source": [
    "test_file"
   ]
  },
  {
   "cell_type": "code",
   "execution_count": null,
   "metadata": {},
   "outputs": [],
   "source": [
    "book = xlrd.open_workbook(filename=test_file, on_demand=True)\n",
    "title_sheet = book.sheet_by_index(0)\n",
    "hrefs = [[title_sheet.cell(link.frowx, link.fcolx).value.strip(),link.textmark] for link in title_sheet.hyperlink_list]\n",
    "hrefs2 = {text: [link, parse_xl_rangeRef(link)] for text, link in hrefs if text in categories}\n",
    "sheet_links_to_parse = [[sheet_info[1][0], sheet_info[1][1]] for sheet_info in hrefs2.values()] \n",
    "sheets_to_parse = {sheet_info[1][0]:list() for sheet_info in hrefs2.values()}\n",
    "for sh_name, sh_rows in sheet_links_to_parse:\n",
    "    sheets_to_parse[sh_name].append(sh_rows)\n",
    "\n",
    "hrefs2\n",
    "sheets_to_parse"
   ]
  },
  {
   "cell_type": "code",
   "execution_count": null,
   "metadata": {},
   "outputs": [],
   "source": [
    "import re\n",
    "import string\n",
    "import hashlib\n",
    "def parse_xl_rangeRef(rangeRef):\n",
    "    ascii_uppercase = \" \" + string.ascii_uppercase\n",
    "    pattern = \"'([\\s\\S]+?)'!(\\w+?)(\\d+)\"\n",
    "    r = re.findall(pattern,rangeRef)\n",
    "    #print()\n",
    "    matched_list = list(r[0])\n",
    "    matched_list[0] = r[0][0]\n",
    "    matched_list[1] = int(r[0][2])\n",
    "    matched_list[2] = ascii_uppercase.find(r[0][1])\n",
    "    return matched_list\n",
    "\n",
    "\n",
    "def parse_dns_shop_entry(shop_entry):\n",
    "    pattern = \"(М\\d+)\\s?—\\s?([\\s\\S]+?), тел.([\\s\\S]+?)\\s*\\.\\s*Режим работы:\\s?([\\s\\S]+?)\\s*\\.\\s*Адрес:\\s?([\\s\\S]+)\"\n",
    "    r = re.findall(pattern,shop_entry)\n",
    "    addr = str(r[0][4]).encode('utf-8') \n",
    "    hash_object = hashlib.md5(addr)\n",
    "    print(list(r[0]))\n",
    "    return list(r[0]) + [hash_object.hexdigest()]\n",
    "    "
   ]
  },
  {
   "cell_type": "code",
   "execution_count": null,
   "metadata": {},
   "outputs": [],
   "source": [
    "data_retrieved = dict()\n",
    "city_shops = dict()\n",
    "shops_retrieved = False\n",
    "\n",
    "for sheet_name, sheet_rows in sheets_to_parse.items():\n",
    "    sheet_rows = (sorted(sheet_rows))\n",
    "    sheet = book.sheet_by_name(sheet_name)\n",
    "    \n",
    "    if not shops_retrieved:\n",
    "        row = 0\n",
    "        entry = \"\"\n",
    "        while entry != \"Код\" or row < sheet.nrows-1:\n",
    "            row += 1\n",
    "            entry = str(sheet.row_values(row)[0])\n",
    "            if entry == \"Код\":\n",
    "                shops_retrieved = True\n",
    "                break\n",
    "                \n",
    "            print(entry,parse_dns_shop_entry(entry))\n",
    "            \n",
    "    for row in sheet_rows:\n",
    "        counter = 0\n",
    "        while article != \"Код\" or row < sheet.nrows-1: \n",
    "            article, article_name, *availability, price, prozaPass = sheet.row_values(row)\n",
    "            if article == \"Код\": break\n",
    "\n",
    "            data_retrieved[int(article)] = [article_name, int(price), int(prozaPass), list(filter(bool, availability))]\n",
    "\n",
    "            if row < sheet.nrows-1: row += 1\n",
    "            else:                   break\n",
    "\n",
    "    book.unload_sheet(sheet_name)\n",
    "    \n",
    "\n",
    "# for article, article_info in data_retrieved.items():\n",
    "#     print(article)\n",
    "#     print(\"Name: \", article_info[0])\n",
    "#     print(\"Price: \", article_info[1])\n",
    "#     print(\"ProzaPass: \", article_info[2])\n",
    "#     print(\"Shops in : \", \", \".join(article_info[3]).replace(\"М\",\"\"))\n",
    "#     print(\"Shops count: \", len(article_info[3]))\n",
    "#     print()"
   ]
  },
  {
   "cell_type": "code",
   "execution_count": null,
   "metadata": {},
   "outputs": [],
   "source": [
    "from files.xls import parse_dns_shop_entry"
   ]
  },
  {
   "cell_type": "code",
   "execution_count": null,
   "metadata": {},
   "outputs": [],
   "source": []
  },
  {
   "cell_type": "code",
   "execution_count": null,
   "metadata": {},
   "outputs": [],
   "source": [
    "txt = \"\"\"\"М1 — г. Мытищи, ТЦ «Перловский», тел. +7 (499) 704-46-40; +7 (499) 704-46-40. Режим работы: Пн-Вс с 10:00 до 22:00. \n",
    "Адрес: г. Мытищи, Селезнева, дом 33\"\t\t\t\t\t\t\n",
    "\"\"\"\n",
    "\n",
    "txt = \"\"\"\"М2 — г. Мытищи, ТРЦ «Красный Кит», тел. +7 (499) 704-46-40. Режим работы: Пн-Пт с 10:00 до 22:00, Сб с 10:00 до 23:00, Вс с 10:00 до 22:00. \n",
    "Адрес: г. Мытищи,  Шараповский, проезд, дом 2\n",
    "\"\"\"\n",
    "\n",
    "\n",
    "parse_dns_shop_entry(txt)"
   ]
  },
  {
   "cell_type": "code",
   "execution_count": null,
   "metadata": {},
   "outputs": [],
   "source": []
  },
  {
   "cell_type": "code",
   "execution_count": null,
   "metadata": {},
   "outputs": [],
   "source": [
    "from db import db\n",
    "from config.config import Configuration\n",
    "config = Configuration()"
   ]
  },
  {
   "cell_type": "code",
   "execution_count": null,
   "metadata": {},
   "outputs": [],
   "source": [
    "md5_vals = [\"0053e3946791960382c40f115ab4168a\",\n",
    "\"007182f4e4835fc6d5af44550f5b8676\",\n",
    "\"00b15c51ccd708e882a8c8c26d828e9f\",\n",
    "\"00c8c8b62c2412a8159bf513af21a4ae\",\n",
    "\"00c545b62c2412a8159bf513af21a4ae\",\n",
    "\"00c8c8b3562412a8159bf513af21a4ae\",\n",
    "\"016a38118e0fd1ac3ad7f18a80836c6f\",\n",
    "\"01b7bb8b64a36bfb9454231ce25e3a34\",\n",
    "\"01d0873a922e32b1aaa5c1c8a0a4a695\",\n",
    "\"01e0858f3bdb8a6b7d697fb1c8de98ab\",\n",
    "\"0255a8df308caefb71bf3dd323e0fc28\",\n",
    "\"027fddbea8d27baebe785ab9f67bd2e9\",\n",
    "\"029c03cbe51ca1a9d68da994ac81a61f\",\n",
    "\"02baefd4fe3032b559d0aad1a1dc53c5\",\n",
    "\"02fb892814b2c1256ed2016c7916f838\",\n",
    "\"031833513168b7d97bd9dd5ca21debeb\",\n",
    "\"031afce1edadfb1358e7b986a26027fc\",\n",
    "\"033e1fbbdd3f189c9c05592756192606\",\n",
    "\"0363032416947da14b3f91f47fce8ab3\",\n",
    "\"037321ca58d017bb44c1591c42d09a86\",\n",
    "\"03b572b4bbb0810c8db1d4000f4bc634\",\n",
    "\"03bf6e0b7f221fa1b4f7b66363b81b0f\",\n",
    "\"03c82d10f60aee5331c20dbe4c49a4c3\",\n",
    "\"04014b1a57866ad480a1d05783a3b558\",\n",
    "\"0402fe47b2b7293156addfe885efbf3e\",\n",
    "\"04877e71722115f3a5fcbb78d3acf982\",\n",
    "\"04a1102e640b80ef67016289ed9c74e5\",\n",
    "\"04a47dc418c8340fbe22775acb30ad00\",\n",
    "\"04f9db2829bf51b31c4199537ed5e555\",\n",
    "\"05038ce1925dfbe54fd58515d3602660\",\n",
    "\"051db4d7fa94ecf403e0eb336264e569\",\n",
    "\"05363060ca00d9fdbf582916883ff834\",\n",
    "\"055afc35ce6480d99513e27b369d9622\",\n",
    "\"05cdf30e8dd554edca8058d8e9d5e462\",\n",
    "\"05da29e6a49d1d7303d6838b29eca740\",\n",
    "\"061fbcda7e4aa29875a97c9e371369ad\",\n",
    "\"069cd98a2e363ed1203f978999d72d03\",\n",
    "\"06bc37a505de7252cc06bea62930b8c5\",\n",
    "\"0709c2b1f22a17301b30ffec8474c5fc\",\n",
    "\"070fac0c844878c36ec3467e09e96e92\",\n",
    "\"0717ec275765daa485b192136d01e649\",\n",
    "\"07187a2fd9dd2cd0fbc6530ada4bf0b6\",\n",
    "\"0738fd906ce459f2b064101f93f8ae82\",\n",
    "\"073a91e3c6234dbecf7772e29363a32c\",\n",
    "\"074aa8388a4577b7d94505be7d73b9b5\",\n",
    "\"0771a000df46ae3531543c93f7b4371f\",\n",
    "\"0771b952c29904319c3ec70ffb586df8\",\n",
    "\"07c8442ae1b326a7987b9c824e189bf0\",\n",
    "\"07f13a500273201a2811a9516afd1da8\",\n",
    "\"07f643e8d115104e25d1f30ea0895530\",\n",
    "\"07ff67ffcc79e303c33ef2120d8e549d\",\n",
    "\"081ba3d34b76d60a758d66826694f745\",\n",
    "\"086d205a2a9310f7842dc3e427a26122\",\n",
    "\"086f46f3b9b4a6a205bc71d8d45961d3\",\n",
    "\"0897a48f3bb498c81a2ba53510007e4e\",\n",
    "\"08ac1206f72844b73a3ac6f76ae1d7b2\",\n",
    "\"08b9f183133b6f3cf62615bb1246aa12\",\n",
    "\"08c64e936ed4a81f39a2ff4f4a497878\",\n",
    "\"08c710bfc757d42487e36a5037ea35a4\",\n",
    "\"08f6d0b645378c5c9841b1ef3bc665d5\",\n",
    "\"093c1ad64ab2e9d8c3b55aa5091616ab\",\n",
    "\"094ff74a2936b4705d25d1a324fb6195\",\n",
    "\"097640ef4bff4f85ecd223b82bf6bde7\",\n",
    "\"09c6ab304d9d5e50fc37ff1a9accf86d\",\n",
    "\"09cde026202428f1d8ffbd7fa9868a5d\",\n",
    "\"09f280681784e9fa74c31e0aea1f4b78\",\n",
    "\"0a2847fffbb2495f3e8d79386fb5a230\",\n",
    "\"0a326a5f7a40a7c3a25628e239def447\",\n",
    "\"0a38b8d559a211bb9f8be2d08834c33d\",\n",
    "\"0a3ad7c1653d3d689be9552303e2cfc7\",\n",
    "\"0a460119139ef4b43d3fd2818e9ed3d3\",\n",
    "\"0a8f937ee4f6189dba1d8fa6de5771b3\",\n",
    "\"0ac21c866f70cbc1328ba62131dda88f\",\n",
    "\"0acb820628e9636db5bf9d495ed999e2\",\n",
    "\"0ae71138ae2f51ab8a7d6901941dc53e\",\n",
    "\"0af6a701376a235172b3269a0f58d33f\",\n",
    "\"0b1aace7f70a75d70df120791473d814\",\n",
    "\"0b1af5061d5f7d2ee3cf36592827037d\",\n",
    "\"0b1cd13267f8de0c9de74c430722baf9\",\n",
    "\"0b62560c045d38509392018d6d7d6f1e\",\n",
    "\"0b661eda4b24d986102866e1d939caf6\",\n",
    "\"0b6fe76d3cbac0d780fbf3ba0c213979\",\n",
    "\"0bd7d2f5ef8c1136322c62e9b8243f23\",\n",
    "\"0acsdsd70cbc1328ba62131dda88f\",\n",
    "\"0acb8206qeqdb5bf9d495ed999e2\",\n",
    "\"0ae7113sad51ab8a7d6901941dc53e\",\n",
    "\"0af6a70gdg235172b3269a0f58d33f\",\n",
    "\"0b1aace7f70a75d70df120791473d814\",\n",
    "\"0bqwe61d5f7d2ee3cf36592827037d\",\n",
    "\"0b1cd13267f8de0qqwww430722baf9\",\n",
    "\"0b62qwe45d3850939as8d6d7d6f1e\",\n",
    "\"0b661eda4b24d9861028asdd939caf6\",\n",
    "\"0b6fe76d3cbac0d780fbf3ba0d213979\",\n",
    "\"0bd7d2f5ef8c1136322adasdada243f23\"           \n",
    "           ]"
   ]
  },
  {
   "cell_type": "code",
   "execution_count": null,
   "metadata": {},
   "outputs": [],
   "source": [
    "curCon = db.DatabaseConnection()\n",
    "city_ids = curCon.get_shops_id_by_md5(md5_vals)\n",
    "ids_dic = {values[\"MD5\"]: values[\"id\"] for values in city_ids}\n",
    "print(ids_dic)\n",
    "ids_absent = [val for val in md5_vals if ids_dic.get(val, None) is None]\n",
    "print(ids_absent)\n"
   ]
  },
  {
   "cell_type": "code",
   "execution_count": null,
   "metadata": {},
   "outputs": [],
   "source": []
  },
  {
   "cell_type": "code",
   "execution_count": null,
   "metadata": {},
   "outputs": [],
   "source": []
  },
  {
   "cell_type": "code",
   "execution_count": null,
   "metadata": {},
   "outputs": [],
   "source": []
  }
 ],
 "metadata": {
  "kernelspec": {
   "display_name": "Python 3",
   "language": "python",
   "name": "python3"
  },
  "language_info": {
   "codemirror_mode": {
    "name": "ipython",
    "version": 3
   },
   "file_extension": ".py",
   "mimetype": "text/x-python",
   "name": "python",
   "nbconvert_exporter": "python",
   "pygments_lexer": "ipython3",
   "version": "3.7.3"
  }
 },
 "nbformat": 4,
 "nbformat_minor": 2
}
